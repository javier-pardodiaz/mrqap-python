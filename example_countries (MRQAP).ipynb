{
 "cells": [
  {
   "cell_type": "code",
   "execution_count": 1,
   "metadata": {},
   "outputs": [],
   "source": [
    "__author__ = 'lisette.espin'"
   ]
  },
  {
   "cell_type": "code",
   "execution_count": 2,
   "metadata": {},
   "outputs": [],
   "source": [
    "#######################################################################\n",
    "# Dependencies\n",
    "#######################################################################\n",
    "import time\n",
    "import numpy as np"
   ]
  },
  {
   "cell_type": "code",
   "execution_count": 3,
   "metadata": {},
   "outputs": [],
   "source": [
    "%load_ext autoreload\n",
    "%autoreload 2\n",
    "from libs.mrqap import MRQAP"
   ]
  },
  {
   "cell_type": "code",
   "execution_count": 4,
   "metadata": {},
   "outputs": [],
   "source": [
    "#######################################################################\n",
    "# Constants\n",
    "#######################################################################\n",
    "NCOUNTRIES = 249\n",
    "DIRECTED = True\n",
    "NPERMUTATIONS = 2000"
   ]
  },
  {
   "cell_type": "code",
   "execution_count": 5,
   "metadata": {},
   "outputs": [],
   "source": [
    "#######################################################################\n",
    "# Functions\n",
    "#######################################################################\n",
    "def getMatrix(path, directed=False, log1p=False):\n",
    "    matrix = np.zeros(shape=(NCOUNTRIES,NCOUNTRIES))\n",
    "    with open(path, 'r') as f:\n",
    "        for line in f:\n",
    "            data = line.replace('\\n','').split(' ')\n",
    "            c1 = int(data[0])-1\n",
    "            c2 = int(data[1])-1\n",
    "            v = np.log1p(float(data[2])) if log1p else float(data[2])\n",
    "            matrix[c1][c2] = v # real data from file\n",
    "            if not DIRECTED:\n",
    "                matrix[c2][c1] = v # symmetry\n",
    "    print('{} loaded as a matrix!'.format(path))\n",
    "    return matrix"
   ]
  },
  {
   "cell_type": "code",
   "execution_count": 6,
   "metadata": {},
   "outputs": [
    {
     "name": "stdout",
     "output_type": "stream",
     "text": [
      "data/country_trade_index.txt loaded as a matrix!\n",
      "data/country_distance_index.txt loaded as a matrix!\n",
      "data/country_colonial_index.txt loaded as a matrix!\n",
      "data/country_lang_index.txt loaded as a matrix!\n"
     ]
    }
   ],
   "source": [
    "#######################################################################\n",
    "# Data Matrices\n",
    "#######################################################################\n",
    "X1 = getMatrix('data/country_trade_index.txt',DIRECTED,True)\n",
    "X2 = getMatrix('data/country_distance_index.txt',DIRECTED,True)\n",
    "X3 = getMatrix('data/country_colonial_index.txt',DIRECTED)\n",
    "Y  = getMatrix('data/country_lang_index.txt',DIRECTED)\n",
    "X = {'TRADE':X1, 'DISTANCE':X2, 'COLONIAL':X3}\n",
    "Y = {'LANG':Y}\n",
    "np.random.seed(1)"
   ]
  },
  {
   "cell_type": "code",
   "execution_count": 7,
   "metadata": {},
   "outputs": [
    {
     "name": "stdout",
     "output_type": "stream",
     "text": [
      "--- directed, 2000: 117.04163575172424 seconds ---\n"
     ]
    }
   ],
   "source": [
    "#######################################################################\n",
    "# MRQAP\n",
    "#######################################################################\n",
    "start_time = time.time()\n",
    "mrqap = MRQAP(Y=Y, X=X, npermutations=NPERMUTATIONS, diagonal=False, directed=True)\n",
    "mrqap.mrqap()\n",
    "print(\"--- {}, {}: {} seconds ---\".format('directed' if DIRECTED else 'undirected', NPERMUTATIONS, time.time() - start_time))\n"
   ]
  },
  {
   "cell_type": "code",
   "execution_count": 8,
   "metadata": {},
   "outputs": [
    {
     "name": "stdout",
     "output_type": "stream",
     "text": [
      "\n",
      "=== Summary OLS (original) ===\n",
      "                            OLS Regression Results                            \n",
      "==============================================================================\n",
      "Dep. Variable:                   LANG   R-squared:                       0.033\n",
      "Model:                            OLS   Adj. R-squared:                  0.033\n",
      "Method:                 Least Squares   F-statistic:                     708.4\n",
      "Date:                Tue, 14 Apr 2020   Prob (F-statistic):               0.00\n",
      "Time:                        22:10:06   Log-Likelihood:                -69998.\n",
      "No. Observations:               61752   AIC:                         1.400e+05\n",
      "Df Residuals:                   61748   BIC:                         1.400e+05\n",
      "Df Model:                           3                                         \n",
      "Covariance Type:            nonrobust                                         \n",
      "==============================================================================\n",
      "                 coef    std err          t      P>|t|      [0.025      0.975]\n",
      "------------------------------------------------------------------------------\n",
      "Intercept      0.0273      0.004      6.117      0.000       0.019       0.036\n",
      "COLONIAL       0.3674      0.066      5.553      0.000       0.238       0.497\n",
      "DISTANCE       0.0272      0.001     40.025      0.000       0.026       0.029\n",
      "TRADE          0.0152      0.001     22.113      0.000       0.014       0.017\n",
      "==============================================================================\n",
      "Omnibus:                   139814.396   Durbin-Watson:                   1.885\n",
      "Prob(Omnibus):                  0.000   Jarque-Bera (JB):       1901352520.949\n",
      "Skew:                          21.381   Prob(JB):                         0.00\n",
      "Kurtosis:                     861.566   Cond. No.                         144.\n",
      "==============================================================================\n",
      "\n",
      "Warnings:\n",
      "[1] Standard Errors assume that the covariance matrix of the errors is correctly specified.\n",
      "\n",
      "# of Permutations: 2000\n",
      "\n",
      "=== Summary beta coefficients ===\n",
      "INDEPENDENT VAR.           MIN    MEDIAN      MEAN       MAX STD. DEV.  B.COEFF.  As Large  As Small   P-VALUE\n",
      "Intercept             0.146429  0.177125  0.177175  0.206350  0.009673  0.027263  1.000000  0.000000  0.000000\n",
      "COLONIAL             -0.173926 -0.017813  0.003347  0.809744  0.106727  0.367386  0.010500  0.989500  0.000000\n",
      "DISTANCE             -0.006704 -0.000023  0.000006  0.007663  0.002062  0.027231  0.000000  1.000000  0.000000\n",
      "TRADE                -0.006099 -0.000081 -0.000008  0.005951  0.001664  0.015195  0.000000  1.000000  0.000000\n",
      "\n",
      "=== Summary T-Values ===\n",
      "INDEPENDENT VAR.           MIN    MEDIAN      MEAN       MAX STD. DEV.    T-TEST  As Large  As Small\n",
      "Intercept            32.336372 39.075296 39.090000 45.552782  2.134403  6.120000  1.000000  0.000000\n",
      "COLONIAL             -2.585871 -0.264775  0.050000 12.049429  1.586558  5.550000  0.010500  0.989500\n",
      "DISTANCE             -9.696517 -0.032521  0.010000 11.086021  2.981287 40.020000  0.000000  1.000000\n",
      "TRADE                -8.733261 -0.115834 -0.010000  8.521500  2.381903 22.110000  0.000000  1.000000\n",
      "\n",
      "========== T-TEST ==========\n",
      "IND. VAR.            COEF.      T-STAT     P-VALUE   \n",
      "Intercept              0.027263 692.923546   0.000000\n",
      "DISTANCE               0.027231 -590.201131   0.000000\n",
      "TRADE                  0.015195 -408.414206   0.000000\n",
      "COLONIAL               0.367386 -152.503603   0.000000\n"
     ]
    }
   ],
   "source": [
    "mrqap.summary()"
   ]
  },
  {
   "cell_type": "code",
   "execution_count": 9,
   "metadata": {
    "scrolled": false
   },
   "outputs": [
    {
     "data": {
      "image/png": "[encoded data removed]",
      "text/plain": [
       "<Figure size 864x216 with 4 Axes>"
      ]
     },
     "metadata": {},
     "output_type": "display_data"
    }
   ],
   "source": [
    "%matplotlib inline  \n",
    "mrqap.plot('betas', fn=None)"
   ]
  },
  {
   "cell_type": "code",
   "execution_count": 10,
   "metadata": {},
   "outputs": [
    {
     "data": {
      "image/png": "[encoded data removed]",
      "text/plain": [
       "<Figure size 864x216 with 4 Axes>"
      ]
     },
     "metadata": {},
     "output_type": "display_data"
    }
   ],
   "source": [
    "mrqap.plot('tvalues', fn=None)"
   ]
  },
  {
   "cell_type": "code",
   "execution_count": null,
   "metadata": {},
   "outputs": [],
   "source": []
  }
 ],
 "metadata": {
  "kernelspec": {
   "display_name": "Python 3",
   "language": "python",
   "name": "python3"
  },
  "language_info": {
   "codemirror_mode": {
    "name": "ipython",
    "version": 3
   },
   "file_extension": ".py",
   "mimetype": "text/x-python",
   "name": "python",
   "nbconvert_exporter": "python",
   "pygments_lexer": "ipython3",
   "version": "3.5.2"
  }
 },
 "nbformat": 4,
 "nbformat_minor": 1
}
