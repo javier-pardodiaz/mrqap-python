{
 "cells": [
  {
   "cell_type": "code",
   "execution_count": 1,
   "metadata": {},
   "outputs": [],
   "source": [
    "__author__ = 'lisette.espin'"
   ]
  },
  {
   "cell_type": "code",
   "execution_count": 2,
   "metadata": {},
   "outputs": [],
   "source": [
    "#######################################################################\n",
    "# References\n",
    "# - http://www.albany.edu/faculty/kretheme/PAD637/ClassNotes/Spring%202013/Lab8.pdf\n",
    "#######################################################################\n",
    "\n",
    "#######################################################################\n",
    "# Dependencies\n",
    "#######################################################################\n",
    "import numpy as np\n",
    "from libs import utils\n",
    "\n",
    "%load_ext autoreload\n",
    "%autoreload 2\n",
    "from libs.qap import QAP"
   ]
  },
  {
   "cell_type": "code",
   "execution_count": 3,
   "metadata": {},
   "outputs": [
    {
     "name": "stdout",
     "output_type": "stream",
     "text": [
      "Information: \n",
      "[[0. 1. 0. 0. 1. 0. 1. 0. 1. 0.]\n",
      " [1. 0. 1. 1. 1. 0. 1. 1. 1. 0.]\n",
      " [0. 1. 0. 1. 1. 1. 1. 0. 0. 1.]\n",
      " [1. 1. 0. 0. 1. 0. 1. 0. 0. 0.]\n",
      " [1. 1. 1. 1. 0. 0. 1. 1. 1. 1.]\n",
      " [0. 0. 1. 0. 0. 0. 1. 0. 1. 0.]\n",
      " [0. 1. 0. 1. 1. 0. 0. 0. 0. 0.]\n",
      " [1. 1. 0. 1. 1. 0. 1. 0. 1. 0.]\n",
      " [0. 1. 0. 0. 1. 0. 1. 0. 0. 0.]\n",
      " [1. 1. 1. 0. 1. 0. 1. 0. 0. 0.]]\n",
      "Money Exchange: \n",
      "[[0. 0. 1. 0. 1. 0. 0. 1. 1. 1.]\n",
      " [0. 0. 1. 0. 0. 0. 0. 0. 0. 0.]\n",
      " [0. 0. 0. 0. 0. 0. 0. 1. 0. 0.]\n",
      " [0. 1. 1. 0. 0. 0. 1. 1. 1. 0.]\n",
      " [0. 1. 1. 0. 0. 0. 0. 1. 1. 0.]\n",
      " [0. 0. 0. 0. 0. 0. 0. 0. 0. 0.]\n",
      " [0. 1. 0. 0. 0. 0. 0. 1. 0. 0.]\n",
      " [0. 0. 0. 0. 0. 0. 0. 0. 1. 1.]\n",
      " [0. 0. 1. 0. 0. 0. 0. 1. 0. 0.]\n",
      " [0. 0. 0. 0. 0. 0. 0. 0. 0. 0.]]\n"
     ]
    }
   ],
   "source": [
    "#######################################################################\n",
    "# Data\n",
    "# Source: http://vlado.fmf.uni-lj.si/pub/networks/data/ucinet/ucidata.htm\n",
    "#######################################################################\n",
    "minfo =  minfo = np.loadtxt('data/info.dat')\n",
    "mmoney = np.loadtxt('data/money.dat')\n",
    "utils.printf('Information: \\n{}'.format(minfo))\n",
    "utils.printf('Money Exchange: \\n{}'.format(mmoney))"
   ]
  },
  {
   "cell_type": "code",
   "execution_count": 4,
   "metadata": {},
   "outputs": [
    {
     "name": "stdout",
     "output_type": "stream",
     "text": [
      "Pearson Correlation: -0.05076061871433862\n",
      "p-value: 0.6346924856405886\n",
      "Pearson's correlation:\n",
      "[[ 1.         -0.05076062]\n",
      " [-0.05076062  1.        ]]\n",
      "Z-Test:(-4.302439343922379, 1.6892792481730327e-05)\n",
      "T-Test:Ttest_indResult(statistic=-4.302439343922379, pvalue=2.7817790656912786e-05)\n"
     ]
    }
   ],
   "source": [
    "#######################################################################\n",
    "# QAP\n",
    "#######################################################################\n",
    "qap = QAP(minfo, mmoney, 5000)\n",
    "qap.qap()"
   ]
  },
  {
   "cell_type": "code",
   "execution_count": 5,
   "metadata": {},
   "outputs": [
    {
     "name": "stdout",
     "output_type": "stream",
     "text": [
      "\n",
      "# Permutations: 5000\n",
      "Correlation coefficients: Obs. Value(-0.05076061871433862), Significance(0.6346924856405886)\n",
      "\n",
      "- Sum all betas: -1.7075430000000407\n",
      "- Min betas: -0.466075\n",
      "- Max betas: 0.416468\n",
      "- Average betas: -0.0003415085999999995\n",
      "- Std. Dev. betas: 0.12714615930848847\n",
      "\n",
      "prop >= -0.05076061871433862: 0.5812\n",
      "prop <= -0.05076061871433862: 0.4188 (proportion of randomly generated correlations that were as small as the observed)\n",
      "\n"
     ]
    }
   ],
   "source": [
    "qap.summary()"
   ]
  },
  {
   "cell_type": "code",
   "execution_count": 6,
   "metadata": {},
   "outputs": [
    {
     "data": {
      "image/png": "[encoded data removed]",
      "text/plain": [
       "<Figure size 432x288 with 1 Axes>"
      ]
     },
     "metadata": {},
     "output_type": "display_data"
    }
   ],
   "source": [
    "qap.plot()"
   ]
  },
  {
   "cell_type": "code",
   "execution_count": null,
   "metadata": {},
   "outputs": [],
   "source": []
  }
 ],
 "metadata": {
  "kernelspec": {
   "display_name": "Python 3",
   "language": "python",
   "name": "python3"
  },
  "language_info": {
   "codemirror_mode": {
    "name": "ipython",
    "version": 3
   },
   "file_extension": ".py",
   "mimetype": "text/x-python",
   "name": "python",
   "nbconvert_exporter": "python",
   "pygments_lexer": "ipython3",
   "version": "3.5.2"
  }
 },
 "nbformat": 4,
 "nbformat_minor": 1
}
