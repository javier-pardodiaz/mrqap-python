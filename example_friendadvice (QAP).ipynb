{
 "cells": [
  {
   "cell_type": "code",
   "execution_count": 1,
   "metadata": {},
   "outputs": [],
   "source": [
    "__author__ = 'lisette.espin'"
   ]
  },
  {
   "cell_type": "code",
   "execution_count": 2,
   "metadata": {},
   "outputs": [],
   "source": [
    "#######################################################################\n",
    "# References\n",
    "# - http://www.albany.edu/faculty/kretheme/PAD637/ClassNotes/Spring%202013/Lab8.pdf\n",
    "#######################################################################\n",
    "\n",
    "#######################################################################\n",
    "# Dependencies\n",
    "#######################################################################\n",
    "import numpy as np\n",
    "\n",
    "%load_ext autoreload\n",
    "%autoreload 2\n",
    "from libs import utils\n",
    "from libs.qap import QAP"
   ]
  },
  {
   "cell_type": "code",
   "execution_count": 3,
   "metadata": {},
   "outputs": [
    {
     "name": "stdout",
     "output_type": "stream",
     "text": [
      "Friendship: \n",
      "[[0. 1. 0. 0. 0.]\n",
      " [1. 0. 1. 0. 0.]\n",
      " [0. 1. 0. 1. 1.]\n",
      " [0. 0. 1. 0. 1.]\n",
      " [0. 0. 1. 1. 0.]]\n",
      "Advise: \n",
      "[[0. 0. 1. 1. 1.]\n",
      " [0. 0. 0. 1. 1.]\n",
      " [1. 0. 0. 0. 1.]\n",
      " [1. 1. 0. 0. 0.]\n",
      " [1. 1. 1. 0. 0.]]\n"
     ]
    }
   ],
   "source": [
    "#######################################################################\n",
    "# Data\n",
    "# Source: http://vlado.fmf.uni-lj.si/pub/networks/data/ucinet/ucidata.htm\n",
    "#######################################################################\n",
    "X =  minfo = np.loadtxt('data/friendship.dat')\n",
    "Y = np.loadtxt('data/advice.dat')\n",
    "utils.printf('Friendship: \\n{}'.format(X))\n",
    "utils.printf('Advise: \\n{}'.format(Y))\n",
    "np.random.seed(831)"
   ]
  },
  {
   "cell_type": "code",
   "execution_count": 4,
   "metadata": {},
   "outputs": [
    {
     "name": "stdout",
     "output_type": "stream",
     "text": [
      "Pearson Correlation: -0.816496580927726\n",
      "p-value: 1.1269971106007864e-05\n",
      "Pearson's correlation:\n",
      "[[ 1.         -0.81649658]\n",
      " [-0.81649658  1.        ]]\n",
      "Z-Test:(-0.622699849077239, 0.5334817819188167)\n",
      "T-Test:Ttest_indResult(statistic=-0.622699849077239, pvalue=0.5372010260785077)\n"
     ]
    }
   ],
   "source": [
    "#######################################################################\n",
    "# QAP\n",
    "#######################################################################\n",
    "qap = QAP(Y, X, 2000)\n",
    "qap.qap()"
   ]
  },
  {
   "cell_type": "code",
   "execution_count": 5,
   "metadata": {},
   "outputs": [
    {
     "name": "stdout",
     "output_type": "stream",
     "text": [
      "\n",
      "# Permutations: 2000\n",
      "Correlation coefficients: Obs. Value(-0.816496580927726), Significance(1.1269971106007864e-05)\n",
      "\n",
      "- Sum all betas: -16.738158000000016\n",
      "- Min betas: -0.816497\n",
      "- Max betas: 0.816497\n",
      "- Average betas: -0.008369078999999998\n",
      "- Std. Dev. betas: 0.3676681594450609\n",
      "\n",
      "prop >= -0.816496580927726: 0.969\n",
      "prop <= -0.816496580927726: 0.031 (proportion of randomly generated correlations that were as small as the observed)\n",
      "\n"
     ]
    }
   ],
   "source": [
    "qap.summary()"
   ]
  },
  {
   "cell_type": "code",
   "execution_count": 6,
   "metadata": {},
   "outputs": [
    {
     "data": {
      "image/png": "[encoded data removed]",
      "text/plain": [
       "<Figure size 432x288 with 1 Axes>"
      ]
     },
     "metadata": {},
     "output_type": "display_data"
    }
   ],
   "source": [
    "qap.plot()"
   ]
  },
  {
   "cell_type": "code",
   "execution_count": null,
   "metadata": {},
   "outputs": [],
   "source": []
  }
 ],
 "metadata": {
  "kernelspec": {
   "display_name": "Python 3",
   "language": "python",
   "name": "python3"
  },
  "language_info": {
   "codemirror_mode": {
    "name": "ipython",
    "version": 3
   },
   "file_extension": ".py",
   "mimetype": "text/x-python",
   "name": "python",
   "nbconvert_exporter": "python",
   "pygments_lexer": "ipython3",
   "version": "3.5.2"
  }
 },
 "nbformat": 4,
 "nbformat_minor": 1
}
